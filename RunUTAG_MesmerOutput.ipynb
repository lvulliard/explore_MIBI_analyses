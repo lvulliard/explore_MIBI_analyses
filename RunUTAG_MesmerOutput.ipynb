{
 "cells": [
  {
   "cell_type": "markdown",
   "id": "800747e4-f4d2-4549-9eac-d91e2b44b889",
   "metadata": {},
   "source": [
    "# UTAG on MIBI data"
   ]
  },
  {
   "cell_type": "markdown",
   "id": "28476eec-d9d8-4dd7-8913-895bfa2a17bf",
   "metadata": {},
   "source": [
    "## Load libraries"
   ]
  },
  {
   "cell_type": "code",
   "execution_count": null,
   "id": "fcb8401b-dbe5-4994-98fd-bb0f545c0c8c",
   "metadata": {
    "tags": []
   },
   "outputs": [],
   "source": [
    "import matplotlib.pyplot as plt\n",
    "import pandas as pd\n",
    "import scanpy as sc\n",
    "import seaborn as sns\n",
    "from utag import utag\n",
    "\n",
    "from utag.segmentation import evaluate_performance\n",
    "\n",
    "from utag.utils import celltype_connectivity, domain_connectivity\n",
    "'''\n",
    "from utag.visualize import (\n",
    "    add_scale_box_to_fig,\n",
    "    add_spatial_image,\n",
    "    adj2chord,\n",
    "    draw_network,\n",
    ")\n",
    "'''\n",
    "sc.settings.set_figure_params(dpi=100, dpi_save=300, fontsize=6)\n",
    "import matplotlib\n",
    "matplotlib.rcParams[\"pdf.fonttype\"] = 42\n",
    "matplotlib.rcParams[\"ps.fonttype\"] = 42\n",
    "matplotlib.rcParams[\"axes.grid\"] = False"
   ]
  },
  {
   "cell_type": "code",
   "execution_count": null,
   "id": "6cda669a-addd-4c77-80c8-6e93819aeb78",
   "metadata": {
    "tags": []
   },
   "outputs": [],
   "source": [
    "import pickle as pkl"
   ]
  },
  {
   "cell_type": "markdown",
   "id": "8bf19b2c-c236-4cee-a0dc-f8d86f27e429",
   "metadata": {},
   "source": [
    "## Load and format data"
   ]
  },
  {
   "cell_type": "code",
   "execution_count": null,
   "id": "d9d714eb-d0f5-47a7-8eec-ffb9538563c2",
   "metadata": {
    "tags": []
   },
   "outputs": [],
   "source": [
    "data = pd.read_csv(\"cell_table_size_normalized.csv\")"
   ]
  },
  {
   "cell_type": "code",
   "execution_count": null,
   "id": "084ebfb1-d13b-4ef2-8c79-fc8f9d5d832a",
   "metadata": {
    "tags": []
   },
   "outputs": [],
   "source": [
    "# Adapt with the columns you want to use to describe each cell\n",
    "cellfeatures = ['ASCT2', 'ATP5A', 'CD14', 'CD163', 'CD20', 'CD31', 'CD36',\n",
    "               'CD3e', 'CD4', 'CD45', 'CD45RO', 'CD56', 'CD68', 'CD8', 'CD98',\n",
    "               'COL1A1', 'CPT1A', 'CS', 'Calprotectin', 'Caveolin', 'ChyTry', 'CytC',\n",
    "               'EpCAM', 'FoxP3', 'G6PD', 'GLS', 'GLUT1', 'HLADR', 'IL17A', 'Ki67',\n",
    "               'LDH', 'MCT1', 'PD1', 'PDL1', 'PKM2', 'PanCK', 'SMA', 'Vimentin']"
   ]
  },
  {
   "cell_type": "code",
   "execution_count": null,
   "id": "d74ea3f5-708b-4919-b789-7289617153d8",
   "metadata": {
    "tags": []
   },
   "outputs": [],
   "source": [
    "# Drop brain samples\n",
    "data = data[[x[-4:] != \"Brai\" for x in data[\"fov\"]]]"
   ]
  },
  {
   "cell_type": "code",
   "execution_count": null,
   "id": "ea78cba8-969b-4981-ba44-785f5794d406",
   "metadata": {
    "tags": []
   },
   "outputs": [],
   "source": [
    "adata = sc.AnnData(data.loc[:,cellfeatures])"
   ]
  },
  {
   "cell_type": "code",
   "execution_count": null,
   "id": "d3d43b74-acb9-4a3a-9230-99dc2b318aa1",
   "metadata": {
    "tags": []
   },
   "outputs": [],
   "source": [
    "# Annotation: image for each cell\n",
    "adata.obs[\"fov\"] = pd.Categorical(data[\"fov\"])  # Categoricals are preferred for efficiency"
   ]
  },
  {
   "cell_type": "code",
   "execution_count": null,
   "id": "73892f6b-78ce-4fd7-a603-1eb7c2b73525",
   "metadata": {
    "tags": []
   },
   "outputs": [],
   "source": [
    "# Annotation: position for each cell\n",
    "adata.obsm[\"spatial\"] = data[[\"centroid-0\",\"centroid-1\"]].values"
   ]
  },
  {
   "cell_type": "code",
   "execution_count": null,
   "id": "f1005215-a662-49a8-ad58-a1f17646ee37",
   "metadata": {
    "tags": []
   },
   "outputs": [],
   "source": [
    "%%time\n",
    "results = utag(adata, \n",
    "               slide_key=\"fov\",\n",
    "               max_dist=50,\n",
    "               normalization_mode='l1_norm',\n",
    "               apply_clustering=True,\n",
    "               clustering_method = 'leiden', \n",
    "               resolutions = [0.02,0.05,0.1])"
   ]
  },
  {
   "cell_type": "code",
   "execution_count": null,
   "id": "b2d66fbb-8be5-4922-9b40-20924192b2a1",
   "metadata": {
    "tags": []
   },
   "outputs": [],
   "source": [
    "# To compare FOVs, we want the cluster colors to be consistent so we define\n",
    "# a palette\n",
    "niches = results.obs['UTAG Label_leiden_0.1'].unique()\n",
    "shared_palette = {n: matplotlib.colormaps['tab20'](int(n)) for n in niches}"
   ]
  },
  {
   "cell_type": "code",
   "execution_count": null,
   "id": "d16a399a-0b0b-429d-b1e5-43e192d70dd1",
   "metadata": {
    "tags": []
   },
   "outputs": [],
   "source": [
    "for roi in results.obs['fov'].unique():\n",
    "    result = results[results.obs['fov'] == roi].copy()\n",
    "    sc.pl.spatial(result,\n",
    "                  color = 'UTAG Label_leiden_0.1',\n",
    "                  palette = shared_palette,\n",
    "                  spot_size = 15, title = roi)"
   ]
  },
  {
   "cell_type": "markdown",
   "id": "f1ea209a-8a1c-4d90-a807-7b92eeccc71e",
   "metadata": {
    "jupyter": {
     "outputs_hidden": true
    },
    "tags": []
   },
   "source": [
    "## Metabolic niches\n",
    "Discard lineage markers"
   ]
  },
  {
   "cell_type": "code",
   "execution_count": null,
   "id": "63cc5f10-deb7-4263-9c54-e5bc54c4900d",
   "metadata": {
    "tags": []
   },
   "outputs": [],
   "source": [
    "metabolicfeatures = ['ASCT2', 'ATP5A', 'CD36',\n",
    "                   'CD98',\n",
    "                   'CPT1A', 'CS', 'CytC',\n",
    "                   'G6PD', 'GLS', 'GLUT1',\n",
    "                   'LDH', 'MCT1','PKM2']"
   ]
  },
  {
   "cell_type": "code",
   "execution_count": null,
   "id": "75f5afab-6b8b-461a-8b25-5b8d172e1f36",
   "metadata": {
    "tags": []
   },
   "outputs": [],
   "source": [
    "adata = sc.AnnData(data.loc[:,metabolicfeatures])"
   ]
  },
  {
   "cell_type": "code",
   "execution_count": null,
   "id": "542c039d-44c0-4293-8193-8580bfea2c43",
   "metadata": {
    "tags": []
   },
   "outputs": [],
   "source": [
    "# Annotation: image for each cell\n",
    "adata.obs[\"fov\"] = pd.Categorical(data[\"fov\"])  # Categoricals are preferred for efficiency"
   ]
  },
  {
   "cell_type": "code",
   "execution_count": null,
   "id": "17ddb629-616d-4679-aa15-02e2fa72ffc4",
   "metadata": {
    "tags": []
   },
   "outputs": [],
   "source": [
    "# Annotation: position for each cell\n",
    "adata.obsm[\"spatial\"] = data[[\"centroid-0\",\"centroid-1\"]].values"
   ]
  },
  {
   "cell_type": "code",
   "execution_count": null,
   "id": "ec31adf5-24d4-450a-ba4e-b3d06eeffc11",
   "metadata": {
    "tags": []
   },
   "outputs": [],
   "source": [
    "%%time\n",
    "results = utag(adata, \n",
    "               slide_key=\"fov\",\n",
    "               max_dist=50,\n",
    "               normalization_mode='l1_norm',\n",
    "               apply_clustering=True,\n",
    "               clustering_method = 'leiden', \n",
    "               resolutions = [0.02,0.05,0.1])"
   ]
  },
  {
   "cell_type": "code",
   "execution_count": null,
   "id": "facf1786-91bd-45a3-8044-26c022066892",
   "metadata": {
    "tags": []
   },
   "outputs": [],
   "source": [
    "for roi in results.obs['fov'].unique():\n",
    "    result = results[results.obs['fov'] == roi].copy()\n",
    "    sc.pl.spatial(result,\n",
    "                  color = 'UTAG Label_leiden_0.1',\n",
    "                  palette = shared_palette,\n",
    "                  spot_size = 15, title = roi)"
   ]
  },
  {
   "cell_type": "code",
   "execution_count": null,
   "id": "2f5b8aa7-ff2d-440b-a02a-6bfda96ef25f",
   "metadata": {},
   "outputs": [],
   "source": []
  }
 ],
 "metadata": {
  "kernelspec": {
   "display_name": "Python 3 (ipykernel)",
   "language": "python",
   "name": "python3"
  },
  "language_info": {
   "codemirror_mode": {
    "name": "ipython",
    "version": 3
   },
   "file_extension": ".py",
   "mimetype": "text/x-python",
   "name": "python",
   "nbconvert_exporter": "python",
   "pygments_lexer": "ipython3",
   "version": "3.10.10"
  }
 },
 "nbformat": 4,
 "nbformat_minor": 5
}

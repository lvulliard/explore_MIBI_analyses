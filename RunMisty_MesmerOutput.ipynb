{
 "cells": [
  {
   "cell_type": "markdown",
   "id": "f79603e6-d6ea-41d4-a229-385c9c8e2ccb",
   "metadata": {},
   "source": [
    "## MISTy pipeline on MIBI data\n",
    "Run MISTy on cellular measurements made on all fields in the multi-tissue array, as extracted from Mesmer."
   ]
  },
  {
   "cell_type": "code",
   "execution_count": null,
   "id": "e238dbb2-c0ea-42ba-b9d9-b24d84280f0e",
   "metadata": {
    "tags": []
   },
   "outputs": [],
   "source": [
    "if (!require(\"BiocManager\", quietly = TRUE))\n",
    "    install.packages(\"BiocManager\")\n",
    "\n",
    "BiocManager::install(\"mistyR\")"
   ]
  },
  {
   "cell_type": "code",
   "execution_count": null,
   "id": "7fa149f6-a12f-4e1c-8fdb-d721c0a5fae1",
   "metadata": {},
   "outputs": [],
   "source": [
    "# MISTy\n",
    "library(mistyR)\n",
    "library(future)\n",
    "\n",
    "# data manipulation\n",
    "library(dplyr)\n",
    "library(purrr)\n",
    "library(distances)\n",
    "\n",
    "# plotting\n",
    "library(ggplot2)\n",
    "\n",
    "plan(multisession)"
   ]
  },
  {
   "cell_type": "code",
   "execution_count": null,
   "id": "4668e4d1-01b2-4e93-87fd-2e3cf0683b1d",
   "metadata": {},
   "outputs": [],
   "source": [
    "library(readr)"
   ]
  },
  {
   "cell_type": "markdown",
   "id": "a578a4bd-54d1-40ac-b9d7-7d8c7d0d5699",
   "metadata": {},
   "source": [
    "## Plotting parameters"
   ]
  },
  {
   "cell_type": "code",
   "execution_count": null,
   "id": "3e57879c-0e3a-4d62-b544-38dc66216884",
   "metadata": {},
   "outputs": [],
   "source": [
    "library(extrafont)\n",
    "\n",
    "\n",
    "# Load extra fonts\n",
    "ttf_import(\"/tmp/.fonts\")\n",
    "loadfonts()\n",
    "\n",
    "# Change theme\n",
    "customTheme <- theme_light() + \n",
    "               theme(panel.grid.minor=element_blank(), text=element_text(size=17, family=\"Arial\", colour = \"#333333\"),\n",
    "                     line=element_line(colour = \"#333333\"), \n",
    "                     legend.background = element_rect(fill=alpha('#CCCCCC', 0.1)), legend.key = element_blank())\n",
    "\n",
    "# Change default colors\n",
    "scale_colour_continuous <- function (..., begin = 0.1, end = 0.9, direction = -1, option = \"plasma\", \n",
    "                                     type = getOption(\"ggplot2.continuous.colour\", default = \"viridis\")) {\n",
    "    switch(type, gradient = scale_colour_gradient(...), \n",
    "        viridis = scale_colour_viridis_c(option = option, begin = begin, end = end, direction = direction, ...), \n",
    "        stop(\"Unknown scale type\", call. = FALSE))\n",
    "}\n",
    "scale_color_continuous <- scale_colour_continuous\n",
    "\n",
    "scale_fill_continuous <- function (..., begin = 0.1, end = 0.9, direction = -1, option = \"plasma\", \n",
    "                                     type = getOption(\"ggplot2.continuous.colour\", default = \"viridis\")) {\n",
    "    switch(type, gradient = scale_fill_gradient(...), \n",
    "        viridis = scale_fill_viridis_c(option = option, begin = begin, end = end, direction = direction, ...), \n",
    "        stop(\"Unknown scale type\", call. = FALSE))\n",
    "\n",
    "}\n",
    "\n",
    "cemm_pal = colorRampPalette(c(\"#5A463C\", \"#008CAD\", \"#40B9D4\", \"#D4ECF2\", \"#D2323C\", \"#F8B100\", \"#DFDC00\"))\n",
    "scale_fill_discrete <- function (..., type = \"CeMM\", h = c(0, 360) + 15, c = 100, l = 65, h.start = 0, \n",
    "    direction = 1, na.value = \"grey50\", aesthetics = \"fill\") \n",
    "{\n",
    "    if (type == \"CeMM\"){\n",
    "        discrete_scale(aesthetics, \"CeMM\", cemm_pal, na.value = na.value, ...)\n",
    "    } else {\n",
    "        discrete_scale(aesthetics, \"hue\", hue_pal(h, c, l, h.start, \n",
    "            direction), na.value = na.value, ...)\n",
    "    }\n",
    "}\n",
    "\n",
    "scale_color_discrete <- function (..., type = \"CeMM\", h = c(0, 360) + 15, c = 100, l = 65, h.start = 0, \n",
    "    direction = 1, na.value = \"grey50\", aesthetics = \"colour\") {\n",
    "    if (type == \"CeMM\"){\n",
    "        discrete_scale(aesthetics, \"CeMM\", cemm_pal, na.value = na.value, ...)\n",
    "    } else {\n",
    "        discrete_scale(aesthetics, \"hue\", scales::hue_pal(h, c, l, h.start, \n",
    "            direction), na.value = na.value, ...)\n",
    "    }\n",
    "}\n",
    "scale_colour_discrete <- scale_color_discrete\n",
    "\n",
    "noGridTheme <- function(...){\n",
    "    theme(panel.grid.major=element_blank(), axis.text.x=element_text(size=12), axis.text.y=element_text(size=12),\n",
    "                      axis.line=element_line(color=\"#333333\", size = 0.2), panel.border = element_blank(), ...)\n",
    "}\n",
    "\n",
    "darkTheme <- function(...){\n",
    "    theme(panel.background = element_rect(fill = '#333333'), plot.background = element_rect(fill = '#333333'), \n",
    "          axis.line=element_line(color=\"#CCCCCC\", size = 0.2), \n",
    "          text=element_text(size=17, family=\"Arial\", colour = \"#CCCCCC\"),\n",
    "          line=element_line(colour = \"#CCCCCC\"))\n",
    "}\n",
    "\n",
    "theme_set(customTheme)\n",
    "\n",
    "options(repr.plot.width=10, repr.plot.height=10)"
   ]
  },
  {
   "cell_type": "markdown",
   "id": "00839baa-3371-43cf-bc72-e8a89bd46d94",
   "metadata": {},
   "source": [
    "## Load data tables"
   ]
  },
  {
   "cell_type": "code",
   "execution_count": null,
   "id": "ee53aa5e-7428-4ad4-9a1e-a98a182dd004",
   "metadata": {},
   "outputs": [],
   "source": [
    "markers = read_csv(\"cell_table_size_normalized.csv\")"
   ]
  },
  {
   "cell_type": "markdown",
   "id": "20615e67-ef21-4778-acc2-6a29c1574339",
   "metadata": {},
   "source": [
    "## Define parameters\n",
    "Adapt this section to your data if needed."
   ]
  },
  {
   "cell_type": "code",
   "execution_count": null,
   "id": "5c42acf0-e696-49e2-bcf0-6f4d051a4afa",
   "metadata": {},
   "outputs": [],
   "source": [
    "# Adapt with the columns you want to use to describe each cell\n",
    "cellfeatures = c('ASCT2', 'ATP5A', 'CD14', 'CD163', 'CD20', 'CD31', 'CD36',\n",
    "               'CD3e', 'CD4', 'CD45', 'CD45RO', 'CD56', 'CD68', 'CD8', 'CD98',\n",
    "               'COL1A1', 'CPT1A', 'CS', 'Calprotectin', 'Caveolin', 'ChyTry', 'CytC',\n",
    "               'EpCAM', 'FoxP3', 'G6PD', 'GLS', 'GLUT1', 'HLADR', 'IL17A', 'Ki67',\n",
    "               'LDH', 'MCT1', 'PD1', 'PDL1', 'PKM2', 'PanCK', 'SMA', 'Vimentin')"
   ]
  },
  {
   "cell_type": "code",
   "execution_count": null,
   "id": "848ea178-4198-4396-867d-863b5bfe18af",
   "metadata": {},
   "outputs": [],
   "source": [
    "# Adapt with the columns used as coordinates of each cell\n",
    "coordfeatures = c(\"centroid-0\", \"centroid-1\")"
   ]
  },
  {
   "cell_type": "code",
   "execution_count": null,
   "id": "22a4b4aa-d9b3-4ca1-a1c1-c629db1a6d60",
   "metadata": {},
   "outputs": [],
   "source": [
    "# Folder where the trained MISTy models will be stored\n",
    "outputfolder = \"MISTY_results\""
   ]
  },
  {
   "cell_type": "markdown",
   "id": "98887ef4-b3c6-4b34-8fb2-35e092844731",
   "metadata": {},
   "source": [
    "## Define views and run MISTY"
   ]
  },
  {
   "cell_type": "code",
   "execution_count": null,
   "id": "c27e4428-3b87-4ded-9576-efa372d31696",
   "metadata": {
    "tags": []
   },
   "outputs": [],
   "source": [
    "misty.folders = markers %>% \n",
    "    group_by(fov) %>% \n",
    "    group_map(function(sample, name) {\n",
    "        print(paste(\"Processing\", name[[1]]))     \n",
    "\n",
    "        # Format marker table – for now no normalization\n",
    "        # We drop CD36 has for some slides it's constantly 0\n",
    "        sample.expr <- sample %>% select(cellfeatures)\n",
    "        # Extract position\n",
    "        sample.pos <- sample %>% select(coordfeatures)\n",
    "\n",
    "        create_initial_view(sample.expr) %>% \n",
    "        add_juxtaview(sample.pos, neighbor.thr = 50) %>%\n",
    "        add_paraview(sample.pos, l = 250, zoi = 50) %>%\n",
    "        run_misty(results.folder = paste0(outputfolder, .Platform$file.sep, name[[1]]))\n",
    "    })"
   ]
  },
  {
   "cell_type": "markdown",
   "id": "e171f33a-df66-46c3-8a7e-b93eb622693c",
   "metadata": {},
   "source": [
    "## Look at the results"
   ]
  },
  {
   "cell_type": "code",
   "execution_count": null,
   "id": "e02254c3-aa06-4779-96a7-cd6149dccef2",
   "metadata": {},
   "outputs": [],
   "source": [
    "misty.results <- collect_results(misty.folders)\n",
    "summary(misty.results)"
   ]
  },
  {
   "cell_type": "markdown",
   "id": "aab858f1-4968-46ad-9a72-40ebafe4f921",
   "metadata": {},
   "source": [
    "By default plots are not exported so not customizable. All definitions are taken [from the MISTy GitHub repo](https://github.com/saezlab/mistyR/blob/992c1ac411c95e4d3c57a55d13887b0010b146d3/R/plots.R)."
   ]
  },
  {
   "cell_type": "code",
   "execution_count": null,
   "id": "a04687b4-50ea-4100-8996-b7d46f89df7f",
   "metadata": {},
   "outputs": [],
   "source": [
    "# Performance of intraview\n",
    "misty.results %>%\n",
    "  plot_improvement_stats(\"intra.R2\")"
   ]
  },
  {
   "cell_type": "code",
   "execution_count": null,
   "id": "e5b88f44-7b30-4602-bc20-d3246fe21f1b",
   "metadata": {},
   "outputs": [],
   "source": [
    "# Gain compared to intraview\n",
    "\n",
    "ggplot_improvement_stats <- function(misty.results,\n",
    "                                   measure = c(\n",
    "                                     \"gain.R2\", \"multi.R2\", \"intra.R2\",\n",
    "                                     \"gain.RMSE\", \"multi.RMSE\", \"intra.RMSE\"\n",
    "                                   ),\n",
    "                                   trim = -Inf) {\n",
    "  measure.type <- match.arg(measure)\n",
    "\n",
    "  assertthat::assert_that((\"improvements.stats\" %in% names(misty.results)),\n",
    "    msg = \"The provided result list is malformed. Consider using collect_results().\"\n",
    "  )\n",
    "\n",
    "  inv <- sign((stringr::str_detect(measure.type, \"gain\") |\n",
    "    stringr::str_detect(measure.type, \"RMSE\", negate = TRUE)) - 0.5)\n",
    "\n",
    "  plot.data <- misty.results$improvements.stats %>%\n",
    "    dplyr::filter(.data$measure == measure.type, inv * .data$mean >= inv * trim)\n",
    "\n",
    "  assertthat::assert_that(assertthat::not_empty(plot.data),\n",
    "    msg = \"Invalid selection of measure and/or trim value.\"\n",
    "  )\n",
    "\n",
    "  results.plot <- ggplot2::ggplot(\n",
    "    plot.data,\n",
    "    ggplot2::aes(\n",
    "      x = stats::reorder(.data$target, -.data$mean),\n",
    "      y = .data$mean\n",
    "    )\n",
    "  ) +\n",
    "    ggplot2::geom_pointrange(ggplot2::aes(\n",
    "      ymin = .data$mean - .data$sd,\n",
    "      ymax = .data$mean + .data$sd\n",
    "    )) +\n",
    "    ggplot2::geom_point(color = \"grey50\") +\n",
    "    ggplot2::ylab(measure) +\n",
    "    ggplot2::xlab(\"Target\") +\n",
    "    ggplot2::theme(axis.text.x = ggplot2::element_text(angle = 45, hjust = 1))\n",
    "\n",
    "  return(results.plot)\n",
    "}"
   ]
  },
  {
   "cell_type": "code",
   "execution_count": null,
   "id": "0ce1d054-64e0-462f-936b-d44c406518bc",
   "metadata": {},
   "outputs": [],
   "source": [
    "plot = misty.results %>%\n",
    "  ggplot_improvement_stats(\"gain.R2\")\n",
    "plot + geom_hline(yintercept = 0, lty = 2)"
   ]
  },
  {
   "cell_type": "code",
   "execution_count": null,
   "id": "4b79f12e-3f18-4e56-9f05-3c3de9b71659",
   "metadata": {},
   "outputs": [],
   "source": [
    "misty.results %>% plot_interaction_communities(\"intra\")"
   ]
  },
  {
   "cell_type": "code",
   "execution_count": null,
   "id": "b5d06eb5-75c4-4363-a366-9cda4f894a0e",
   "metadata": {},
   "outputs": [],
   "source": [
    "misty.results %>% plot_interaction_heatmap(view = \"intra\", cutoff = 0.8)"
   ]
  },
  {
   "cell_type": "markdown",
   "id": "ee61e7a1-b479-453c-b130-ff52abee12a3",
   "metadata": {},
   "source": [
    "Note: fairly robust compared to nuclear markers only, e.g. cluster of intra-interactions between CD3, CD4, CD45 and CD45RO."
   ]
  }
 ],
 "metadata": {
  "kernelspec": {
   "display_name": "R",
   "language": "R",
   "name": "ir"
  },
  "language_info": {
   "codemirror_mode": "r",
   "file_extension": ".r",
   "mimetype": "text/x-r-source",
   "name": "R",
   "pygments_lexer": "r",
   "version": "4.1.3"
  }
 },
 "nbformat": 4,
 "nbformat_minor": 5
}
